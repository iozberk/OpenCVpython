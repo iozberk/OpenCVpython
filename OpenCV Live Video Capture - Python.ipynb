# Live Video Capture

camera = cv2.VideoCapture(0)

while True:
    ret,video = camera.read()
    cv2.imshow("Live Video: ",video)
    if cv2.waitKey(24) & 0xFF ==' q ':
        break
camera.release()
cv2.destroyAllWindows()
