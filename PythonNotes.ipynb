{
 "cells": [
  {
   "cell_type": "markdown",
   "metadata": {},
   "source": [
    "# Print Hello world!\n",
    "    "
   ]
  },
  {
   "cell_type": "code",
   "execution_count": 1,
   "metadata": {},
   "outputs": [
    {
     "output_type": "stream",
     "name": "stdout",
     "text": [
      "Hello world!\n"
     ]
    }
   ],
   "source": [
    "print(\"Hello world!\")"
   ]
  },
  {
   "cell_type": "markdown",
   "metadata": {},
   "source": [
    "# Python Variables\n",
    "    "
   ]
  },
  {
   "cell_type": "code",
   "execution_count": 2,
   "metadata": {},
   "outputs": [
    {
     "output_type": "stream",
     "name": "stdout",
     "text": [
      "3\nThree\n<class 'int'>\n<class 'str'>\n"
     ]
    }
   ],
   "source": [
    "x = 3          # Numeric Types \n",
    "y = \"Three\"    # Text Type \n",
    "print(x)\n",
    "print(y)\n",
    "print(type(x))  \n",
    "print(type(y))"
   ]
  },
  {
   "cell_type": "markdown",
   "metadata": {},
   "source": [
    "# Length of a string"
   ]
  },
  {
   "cell_type": "code",
   "execution_count": 3,
   "metadata": {},
   "outputs": [
    {
     "output_type": "stream",
     "name": "stdout",
     "text": [
      "12\n"
     ]
    }
   ],
   "source": [
    "x = \"Hello world!\"\n",
    "print(len(x))"
   ]
  },
  {
   "cell_type": "markdown",
   "metadata": {},
   "source": [
    "# Convert Lower-Upper and replace"
   ]
  },
  {
   "cell_type": "code",
   "execution_count": 4,
   "metadata": {},
   "outputs": [
    {
     "output_type": "stream",
     "name": "stdout",
     "text": [
      "hello world!\nHELLO WORLD!\nMello World!\n"
     ]
    }
   ],
   "source": [
    "x = \"Hello World!\"\n",
    "print(x.lower())\n",
    "\n",
    "y = \"Hello World!\"\n",
    "print(y.upper())\n",
    "\n",
    "z= \"Hello World!\"\n",
    "print(z.replace(\"H\", \"M\"))\n"
   ]
  },
  {
   "cell_type": "markdown",
   "metadata": {},
   "source": [
    "# Split"
   ]
  },
  {
   "cell_type": "code",
   "execution_count": 5,
   "metadata": {},
   "outputs": [
    {
     "output_type": "stream",
     "name": "stdout",
     "text": [
      "['Hello', 'World!']\nHello\nWorld!\n"
     ]
    }
   ],
   "source": [
    "x = \"Hello World!\"\n",
    "y = x.split(\" \")\n",
    "print(y)\n",
    "\n",
    "print(y[0]) # first index\n",
    "print(y[1])"
   ]
  },
  {
   "cell_type": "markdown",
   "metadata": {},
   "source": [
    "# Python Lists"
   ]
  },
  {
   "cell_type": "code",
   "execution_count": 6,
   "metadata": {},
   "outputs": [
    {
     "output_type": "stream",
     "name": "stdout",
     "text": [
      "['Linear Regression', 'Logistic Regression', 'Decision Tree']\nLinear Regression\nLogistic Regression\nDecision Tree\n"
     ]
    },
    {
     "output_type": "execute_result",
     "data": {
      "text/plain": [
       "3"
      ]
     },
     "metadata": {},
     "execution_count": 6
    }
   ],
   "source": [
    "# Create list\n",
    "\n",
    "a_list = [\"Linear Regression\", \"Logistic Regression\", \"Decision Tree\"]\n",
    "print(a_list)\n",
    "print(a_list[0]) # first index\n",
    "print(a_list[1])\n",
    "print(a_list[2]) # last index\n",
    "\n",
    "len(a_list)"
   ]
  },
  {
   "cell_type": "code",
   "execution_count": 7,
   "metadata": {},
   "outputs": [
    {
     "output_type": "stream",
     "name": "stdout",
     "text": [
      "SVM\n"
     ]
    }
   ],
   "source": [
    "# Change value\n",
    "a_list[1] = \"SVM\"\n",
    "print(a_list[1]) # changed from watermelon to banana"
   ]
  },
  {
   "cell_type": "code",
   "execution_count": 8,
   "metadata": {},
   "outputs": [
    {
     "output_type": "stream",
     "name": "stdout",
     "text": [
      "Linear Regression\nSVM\nDecision Tree\nno\n"
     ]
    }
   ],
   "source": [
    "# Loop\n",
    "\n",
    "for i in a_list:\n",
    "    print (i)\n",
    "    \n",
    "    \n",
    "# Check item exist \n",
    "\n",
    "if \"SVMM\" in a_list:\n",
    "    print(\" yes\")\n",
    "else:\n",
    "    print(\"no\")"
   ]
  },
  {
   "cell_type": "code",
   "execution_count": 9,
   "metadata": {},
   "outputs": [
    {
     "output_type": "stream",
     "name": "stdout",
     "text": [
      "['Linear Regression', 'Logistic Regression', 'Decision Tree', 'SVM']\n"
     ]
    },
    {
     "output_type": "execute_result",
     "data": {
      "text/plain": [
       "4"
      ]
     },
     "metadata": {},
     "execution_count": 9
    }
   ],
   "source": [
    "# Add item - end of list APPEND \n",
    "a_list = [\"Linear Regression\", \"Logistic Regression\", \"Decision Tree\"]\n",
    "\n",
    "a_list.append(\"SVM\")\n",
    "print(a_list)\n",
    "len(a_list)"
   ]
  },
  {
   "cell_type": "code",
   "execution_count": 10,
   "metadata": {},
   "outputs": [
    {
     "output_type": "stream",
     "name": "stdout",
     "text": [
      "['Naive Bayes', 'Linear Regression', 'Logistic Regression', 'Decision Tree', 'SVM']\n"
     ]
    },
    {
     "output_type": "execute_result",
     "data": {
      "text/plain": [
       "5"
      ]
     },
     "metadata": {},
     "execution_count": 10
    }
   ],
   "source": [
    "# Add item any index INSERT\n",
    "a_list = [\"Linear Regression\", \"Logistic Regression\", \"Decision Tree\",\"SVM\"]\n",
    "\n",
    "a_list.insert(0, \"Naive Bayes\")\n",
    "print(a_list)\n",
    "len(a_list)"
   ]
  },
  {
   "cell_type": "code",
   "execution_count": 11,
   "metadata": {},
   "outputs": [
    {
     "output_type": "stream",
     "name": "stdout",
     "text": [
      "['Linear Regression', 'Logistic Regression', 'Decision Tree', 'Naive Bayes']\n"
     ]
    },
    {
     "output_type": "execute_result",
     "data": {
      "text/plain": [
       "4"
      ]
     },
     "metadata": {},
     "execution_count": 11
    }
   ],
   "source": [
    "# Remove any - REMOVE\n",
    "a_list = [\"Linear Regression\", \"Logistic Regression\", \"Decision Tree\",\"SVM\",\"Naive Bayes\"]\n",
    "a_list.remove(\"SVM\")\n",
    "print(a_list)\n",
    "len(a_list)"
   ]
  },
  {
   "cell_type": "code",
   "execution_count": 12,
   "metadata": {},
   "outputs": [
    {
     "output_type": "stream",
     "name": "stdout",
     "text": [
      "['Linear Regression', 'Logistic Regression', 'Decision Tree']\n"
     ]
    },
    {
     "output_type": "execute_result",
     "data": {
      "text/plain": [
       "3"
      ]
     },
     "metadata": {},
     "execution_count": 12
    }
   ],
   "source": [
    "# Remove last item - POP\n",
    "a_list = [\"Linear Regression\", \"Logistic Regression\", \"Decision Tree\",\"SVM\"]\n",
    "a_list.pop()\n",
    "print(a_list)\n",
    "len(a_list)"
   ]
  },
  {
   "cell_type": "code",
   "execution_count": 13,
   "metadata": {},
   "outputs": [
    {
     "output_type": "stream",
     "name": "stdout",
     "text": [
      "['Logistic Regression', 'Decision Tree', 'SVM']\n"
     ]
    },
    {
     "output_type": "execute_result",
     "data": {
      "text/plain": [
       "3"
      ]
     },
     "metadata": {},
     "execution_count": 13
    }
   ],
   "source": [
    "# Remove specified index - REMOVE\n",
    "a_list = [\"Linear Regression\", \"Logistic Regression\", \"Decision Tree\",\"SVM\"]\n",
    "del a_list[0]\n",
    "print(a_list)\n",
    "len(a_list)"
   ]
  },
  {
   "cell_type": "code",
   "execution_count": 14,
   "metadata": {},
   "outputs": [
    {
     "output_type": "stream",
     "name": "stdout",
     "text": [
      "[]\n"
     ]
    },
    {
     "output_type": "execute_result",
     "data": {
      "text/plain": [
       "0"
      ]
     },
     "metadata": {},
     "execution_count": 14
    }
   ],
   "source": [
    "# Remove all items - empty a list\n",
    "\n",
    "a_list = [\"Linear Regression\", \"Logistic Regression\", \"Decision Tree\",\"SVM\",\"Naive Bayes\"]\n",
    "a_list.clear()\n",
    "print(a_list)\n",
    "len(a_list)"
   ]
  },
  {
   "cell_type": "markdown",
   "metadata": {},
   "source": [
    "# Python Tuples"
   ]
  },
  {
   "cell_type": "code",
   "execution_count": 15,
   "metadata": {},
   "outputs": [
    {
     "output_type": "stream",
     "name": "stdout",
     "text": [
      "('Linear Regression', 'Logistic Regression', 'Decision Tree', 'SVM', 'Naive Bayes')\n"
     ]
    }
   ],
   "source": [
    "# Create a tuple\n",
    "# A tuple is ordered and unchangeable.\n",
    "\n",
    "a_tuple = (\"Linear Regression\", \"Logistic Regression\", \"Decision Tree\",\"SVM\",\"Naive Bayes\")\n",
    "print(a_tuple)"
   ]
  },
  {
   "cell_type": "code",
   "execution_count": 16,
   "metadata": {},
   "outputs": [
    {
     "output_type": "stream",
     "name": "stdout",
     "text": [
      "Linear Regression\nLogistic Regression\nDecision Tree\nSVM\nNaive Bayes\n5\n"
     ]
    }
   ],
   "source": [
    "# Access items\n",
    "\n",
    "print(a_tuple[0])\n",
    "print(a_tuple[1])\n",
    "print(a_tuple[2])\n",
    "print(a_tuple[3])\n",
    "print(a_tuple[4])\n",
    "\n",
    "print(len(a_tuple))"
   ]
  },
  {
   "cell_type": "code",
   "execution_count": 17,
   "metadata": {},
   "outputs": [
    {
     "output_type": "stream",
     "name": "stdout",
     "text": [
      "Linear Regression\nLogistic Regression\nDecision Tree\nSVM\nNaive Bayes\n"
     ]
    }
   ],
   "source": [
    "# Also for loop better way\n",
    "\n",
    "for i in a_tuple:\n",
    "    print(i)"
   ]
  },
  {
   "cell_type": "markdown",
   "metadata": {},
   "source": [
    "# Python Sets"
   ]
  },
  {
   "cell_type": "code",
   "execution_count": 18,
   "metadata": {},
   "outputs": [
    {
     "output_type": "stream",
     "name": "stdout",
     "text": [
      "{'Decision Tree', 'Linear Regression', 'SVM', 'Naive Bayes', 'Logistic Regression'}\n"
     ]
    }
   ],
   "source": [
    "# Create a Sets\n",
    "# set list is unordered/random\n",
    "\n",
    "a_set = {\"Linear Regression\", \"Logistic Regression\", \"Decision Tree\",\"SVM\",\"Naive Bayes\"}\n",
    "print(a_set)"
   ]
  },
  {
   "cell_type": "code",
   "execution_count": 19,
   "metadata": {},
   "outputs": [
    {
     "output_type": "stream",
     "name": "stdout",
     "text": [
      "Decision Tree\nLinear Regression\nSVM\nNaive Bayes\nLogistic Regression\n"
     ]
    }
   ],
   "source": [
    "# Loop\n",
    "for i in a_set:\n",
    "    print(i)"
   ]
  },
  {
   "cell_type": "code",
   "execution_count": 20,
   "metadata": {},
   "outputs": [
    {
     "output_type": "stream",
     "name": "stdout",
     "text": [
      "{'Naive Bayes', 'Random Forest', 'Gradient Boosting', 'LightGBM'}\n"
     ]
    },
    {
     "output_type": "execute_result",
     "data": {
      "text/plain": [
       "4"
      ]
     },
     "metadata": {},
     "execution_count": 20
    }
   ],
   "source": [
    "# Add item\n",
    "a_set = {\"Random Forest\", \"Gradient Boosting\", \"LightGBM\"}\n",
    "a_set.add(\"Naive Bayes\")\n",
    "print(a_set)\n",
    "len(a_set)"
   ]
  },
  {
   "cell_type": "code",
   "execution_count": 21,
   "metadata": {},
   "outputs": [
    {
     "output_type": "stream",
     "name": "stdout",
     "text": [
      "{'Naive Bayes', 'Random Forest', 'LightGBM', 'kNN', 'K-Means', 'Gradient Boosting'}\n"
     ]
    },
    {
     "output_type": "execute_result",
     "data": {
      "text/plain": [
       "6"
      ]
     },
     "metadata": {},
     "execution_count": 21
    }
   ],
   "source": [
    "# Add many items - UPDATE\n",
    "\n",
    "a_set.update([\"kNN\", \"K-Means\", \"LightGBM\"])\n",
    "print(a_set)\n",
    "len(a_set)"
   ]
  },
  {
   "cell_type": "code",
   "execution_count": 22,
   "metadata": {
    "scrolled": true
   },
   "outputs": [
    {
     "output_type": "error",
     "ename": "KeyError",
     "evalue": "'SVM'",
     "traceback": [
      "\u001b[1;31m---------------------------------------------------------------------------\u001b[0m",
      "\u001b[1;31mKeyError\u001b[0m                                  Traceback (most recent call last)",
      "\u001b[1;32m<ipython-input-22-103cc32b100a>\u001b[0m in \u001b[0;36m<module>\u001b[1;34m\u001b[0m\n\u001b[0;32m      1\u001b[0m \u001b[1;31m# Remove items with REMOVE\u001b[0m\u001b[1;33m\u001b[0m\u001b[1;33m\u001b[0m\u001b[1;33m\u001b[0m\u001b[0m\n\u001b[0;32m      2\u001b[0m \u001b[0ma_set\u001b[0m \u001b[1;33m=\u001b[0m \u001b[1;33m{\u001b[0m\u001b[1;34m\"Random Forest\"\u001b[0m\u001b[1;33m,\u001b[0m \u001b[1;34m\"Gradient Boosting\"\u001b[0m\u001b[1;33m,\u001b[0m \u001b[1;34m\"LightGBM\"\u001b[0m\u001b[1;33m}\u001b[0m\u001b[1;33m\u001b[0m\u001b[1;33m\u001b[0m\u001b[0m\n\u001b[1;32m----> 3\u001b[1;33m \u001b[0ma_set\u001b[0m\u001b[1;33m.\u001b[0m\u001b[0mremove\u001b[0m\u001b[1;33m(\u001b[0m\u001b[1;34m\"SVM\"\u001b[0m\u001b[1;33m)\u001b[0m\u001b[1;33m\u001b[0m\u001b[1;33m\u001b[0m\u001b[0m\n\u001b[0m\u001b[0;32m      4\u001b[0m \u001b[0mprint\u001b[0m\u001b[1;33m(\u001b[0m\u001b[0ma_set\u001b[0m\u001b[1;33m)\u001b[0m\u001b[1;33m\u001b[0m\u001b[1;33m\u001b[0m\u001b[0m\n\u001b[0;32m      5\u001b[0m \u001b[0mlen\u001b[0m\u001b[1;33m(\u001b[0m\u001b[0ma_set\u001b[0m\u001b[1;33m)\u001b[0m\u001b[1;33m\u001b[0m\u001b[1;33m\u001b[0m\u001b[0m\n",
      "\u001b[1;31mKeyError\u001b[0m: 'SVM'"
     ]
    }
   ],
   "source": [
    "# Remove items with REMOVE\n",
    "a_set = {\"Random Forest\", \"Gradient Boosting\", \"LightGBM\"}\n",
    "a_set.remove(\"SVM\")\n",
    "print(a_set)\n",
    "len(a_set)\n",
    "\n",
    "# If the item to remove does not exist, remove() will raise an error."
   ]
  },
  {
   "cell_type": "code",
   "execution_count": null,
   "metadata": {},
   "outputs": [],
   "source": [
    "# Remove items with DISCARD\n",
    "a_set = {\"Random Forest\", \"Gradient Boosting\", \"LightGBM\"}\n",
    "a_set.discard(\"SVM\")\n",
    "print(a_set)\n",
    "len(a_set)"
   ]
  },
  {
   "cell_type": "code",
   "execution_count": null,
   "metadata": {
    "scrolled": true
   },
   "outputs": [],
   "source": [
    "# Remove items with POP\n",
    "a_set = {\"Linear Regression\", \"Logistic Regression\", \"Decision Tree\",\"SVM\",\"Naive Bayes\"}\n",
    "lastItemRemoved = a_set.pop() # set list is random \n",
    "print(lastItemRemoved)\n",
    "print(a_set)\n",
    "len(a_set)"
   ]
  },
  {
   "cell_type": "markdown",
   "metadata": {},
   "source": [
    "# Python Dictionaries"
   ]
  },
  {
   "cell_type": "code",
   "execution_count": null,
   "metadata": {},
   "outputs": [],
   "source": [
    "a_dic = {\n",
    "  \"Name\": \"Ismail\",\n",
    "  \"Surname\": \"OZBERK\",\n",
    "  \"birthyear\": 1993\n",
    "}\n",
    "\n",
    "print(a_dic)\n",
    "len(a_dic)"
   ]
  },
  {
   "cell_type": "code",
   "execution_count": 26,
   "metadata": {},
   "outputs": [
    {
     "output_type": "execute_result",
     "data": {
      "text/plain": [
       "1993"
      ]
     },
     "metadata": {},
     "execution_count": 26
    }
   ],
   "source": [
    "# Access items\n",
    "a_dic[\"Name\"]\n",
    "a_dic[\"Surname\"]\n",
    "a_dic[\"birthyear\"]"
   ]
  },
  {
   "cell_type": "code",
   "execution_count": 27,
   "metadata": {},
   "outputs": [
    {
     "output_type": "stream",
     "name": "stdout",
     "text": [
      "Name\nSurname\nbirthyear\n"
     ]
    }
   ],
   "source": [
    "for i in a_dic:\n",
    "    print(i)"
   ]
  },
  {
   "cell_type": "code",
   "execution_count": 28,
   "metadata": {},
   "outputs": [
    {
     "output_type": "stream",
     "name": "stdout",
     "text": [
      "{'Name': 'Ismail', 'Surname': 'OZBERK', 'birthyear': 1994}\n"
     ]
    }
   ],
   "source": [
    "# Change the value\n",
    "a_dic[\"birthyear\"] = 1994\n",
    "print(a_dic)"
   ]
  },
  {
   "cell_type": "code",
   "execution_count": 29,
   "metadata": {},
   "outputs": [
    {
     "output_type": "stream",
     "name": "stdout",
     "text": [
      "Name\nSurname\nbirthyear\nIsmail\nOZBERK\n1994\n"
     ]
    }
   ],
   "source": [
    "# Print key names and value names\n",
    "\n",
    "for i in a_dic:\n",
    "    print(i)\n",
    "for k in a_dic:\n",
    "    print(a_dic[k])"
   ]
  },
  {
   "cell_type": "code",
   "execution_count": 30,
   "metadata": {},
   "outputs": [
    {
     "output_type": "stream",
     "name": "stdout",
     "text": [
      "Name Ismail\nSurname OZBERK\nbirthyear 1994\n"
     ]
    }
   ],
   "source": [
    "# Print key names and value names same time\n",
    "for i,k in a_dic.items():\n",
    "    print(i,k)"
   ]
  },
  {
   "cell_type": "code",
   "execution_count": 31,
   "metadata": {},
   "outputs": [
    {
     "output_type": "stream",
     "name": "stdout",
     "text": [
      "{'Name': 'Ismail', 'Surname': 'OZBERK', 'birthyear': 1994, 'gender': 'male'}\n"
     ]
    }
   ],
   "source": [
    "# add a item\n",
    "a_dic[\"gender\"] = \"male\"\n",
    "print(a_dic)"
   ]
  },
  {
   "cell_type": "code",
   "execution_count": 32,
   "metadata": {},
   "outputs": [
    {
     "output_type": "stream",
     "name": "stdout",
     "text": [
      "{'Name': 'Ismail', 'Surname': 'OZBERK', 'gender': 'male'}\n"
     ]
    }
   ],
   "source": [
    "# remove a item\n",
    "a_dic.pop(\"birthyear\")\n",
    "print(a_dic)"
   ]
  },
  {
   "cell_type": "markdown",
   "metadata": {},
   "source": [
    "# Python If - Else"
   ]
  },
  {
   "cell_type": "code",
   "execution_count": 33,
   "metadata": {},
   "outputs": [
    {
     "output_type": "stream",
     "name": "stdout",
     "text": [
      "5 is lower than 10\nno\nyes\n"
     ]
    }
   ],
   "source": [
    "a = 5\n",
    "b = 10\n",
    "c = 15\n",
    "d = 20\n",
    "e = 25\n",
    "f = 30\n",
    "\n",
    "if a < b:\n",
    "    print(\"{} is lower than {}\".format(a,b))\n",
    "elif d > c:\n",
    "    print(\"{} is greater than {}\".format(d,c))\n",
    "else:\n",
    "    print(\"Something went wrong\")\n",
    "    \n",
    "if d == e and f < a:\n",
    "    print(\"yes\")\n",
    "else:\n",
    "    print(\"no\")\n",
    "    \n",
    "if d%5==0 or f%3==0:\n",
    "    print(\"yes\")\n",
    "else:\n",
    "    print(\"no\")    "
   ]
  },
  {
   "cell_type": "markdown",
   "metadata": {},
   "source": [
    "# Python While"
   ]
  },
  {
   "cell_type": "code",
   "execution_count": 34,
   "metadata": {},
   "outputs": [
    {
     "output_type": "stream",
     "name": "stdout",
     "text": [
      "0\n2\n4\n6\n8\n10\n"
     ]
    }
   ],
   "source": [
    "a = 0\n",
    "while a < 21:\n",
    "  print(a)\n",
    "  if (a == 10):\n",
    "    break                # Break Statement\n",
    "  a += 2"
   ]
  },
  {
   "cell_type": "code",
   "execution_count": 35,
   "metadata": {},
   "outputs": [
    {
     "output_type": "stream",
     "name": "stdout",
     "text": [
      "2\n",
      "3\n",
      "4\n",
      "5\n"
     ]
    }
   ],
   "source": [
    "a = 0\n",
    "while a < 5:\n",
    "  a += 1\n",
    "  if a == 1:\n",
    "    continue         # Continue  Statement\n",
    "  print(a)"
   ]
  },
  {
   "cell_type": "markdown",
   "metadata": {},
   "source": [
    "# Python For Loop"
   ]
  },
  {
   "cell_type": "code",
   "execution_count": 36,
   "metadata": {},
   "outputs": [
    {
     "output_type": "stream",
     "name": "stdout",
     "text": [
      "0\n2\n4\n6\n8\nDone\n"
     ]
    }
   ],
   "source": [
    "for i in range(0,10,2): # Even numbers \n",
    "    print(i)\n",
    "else:\n",
    "  print(\"Done\")    "
   ]
  },
  {
   "cell_type": "code",
   "execution_count": 37,
   "metadata": {},
   "outputs": [
    {
     "output_type": "stream",
     "name": "stdout",
     "text": [
      "a a\na b\na c\nb a\nb b\nb c\nc a\nc b\nc c\n"
     ]
    }
   ],
   "source": [
    "# Nested for loop\n",
    "\n",
    "letters1 = [\"a\",\"b\",\"c\"]\n",
    "letters2 = [\"d\",\"e\",\"f\"]\n",
    " \n",
    "for i in letters1:\n",
    "    for j in letters1:\n",
    "        print(i,j)"
   ]
  },
  {
   "cell_type": "markdown",
   "metadata": {},
   "source": [
    "# Functions"
   ]
  },
  {
   "cell_type": "code",
   "execution_count": 38,
   "metadata": {},
   "outputs": [
    {
     "output_type": "stream",
     "name": "stdout",
     "text": [
      "Hello World, This is python function\n"
     ]
    }
   ],
   "source": [
    "# Creating\n",
    "def first_functions():\n",
    "    print(\"Hello World, This is python function\")\n",
    "    \n",
    "first_functions()    "
   ]
  },
  {
   "cell_type": "code",
   "execution_count": 39,
   "metadata": {},
   "outputs": [
    {
     "output_type": "stream",
     "name": "stdout",
     "text": [
      "I am 22 years old\nI am 33 years old\nI am 44 years old\nI am 55 years old\nI am 25 years old\n"
     ]
    }
   ],
   "source": [
    "# Return age\n",
    "def second_functions(age = 25):\n",
    "    print(\"I am {}\".format(age) + \" years old\")\n",
    "\n",
    "second_functions(22)\n",
    "second_functions(33)\n",
    "second_functions(44)\n",
    "second_functions(55)\n",
    "\n",
    "second_functions() # default value = 25"
   ]
  },
  {
   "cell_type": "code",
   "execution_count": 40,
   "metadata": {},
   "outputs": [
    {
     "output_type": "stream",
     "name": "stdout",
     "text": [
      "1\n4\n9\n16\n25\n"
     ]
    },
    {
     "output_type": "execute_result",
     "data": {
      "text/plain": [
       "100"
      ]
     },
     "metadata": {},
     "execution_count": 40
    }
   ],
   "source": [
    "# squaring\n",
    "def third_functions(i):\n",
    "    return i**2\n",
    "\n",
    "print(third_functions(1))\n",
    "print(third_functions(2))\n",
    "print(third_functions(3))\n",
    "print(third_functions(4))\n",
    "print(third_functions(5))\n",
    "third_functions(10)"
   ]
  },
  {
   "cell_type": "code",
   "execution_count": 41,
   "metadata": {},
   "outputs": [
    {
     "output_type": "stream",
     "name": "stdout",
     "text": [
      "numbers must be positive\nThe factorial of 0 is 1\nThe factorial of 3 is 6\nThe factorial of 4 is 24\nThe factorial of 5 is 120\nThe factorial of 6 is 720\nThe factorial of 7 is 5040\n"
     ]
    }
   ],
   "source": [
    "def num_factorial(num):\n",
    "  fac = 1\n",
    "  if num < 0:\n",
    "    print(\"numbers must be positive\")\n",
    "  elif num == 0:\n",
    "    print(\"The factorial of 0 is 1\")\n",
    "  else:\n",
    "    for a in range(1, num + 1):\n",
    "        fac = fac * a\n",
    "    print(\"The factorial of\",num,\"is\",fac)    \n",
    "    \n",
    "    \n",
    "num_factorial(-1)\n",
    "num_factorial(0)\n",
    "num_factorial(3)\n",
    "num_factorial(4)\n",
    "num_factorial(5)\n",
    "num_factorial(6)\n",
    "num_factorial(7)"
   ]
  },
  {
   "cell_type": "markdown",
   "metadata": {},
   "source": [
    "### lambda"
   ]
  },
  {
   "cell_type": "code",
   "execution_count": 42,
   "metadata": {},
   "outputs": [
    {
     "output_type": "stream",
     "name": "stdout",
     "text": [
      "0\n1\n4\n9\n"
     ]
    }
   ],
   "source": [
    "a = lambda x: x ** 2\n",
    "print(a(0))\n",
    "print(a(1))\n",
    "print(a(2))\n",
    "print(a(3))"
   ]
  },
  {
   "cell_type": "code",
   "execution_count": 43,
   "metadata": {},
   "outputs": [
    {
     "output_type": "stream",
     "name": "stdout",
     "text": [
      "16\n81\n16\n81\n"
     ]
    }
   ],
   "source": [
    "a = lambda x, y: x ** y\n",
    "print(a(2,4))         # 2x2x2x2 = 16\n",
    "print(a(3,4))         # 3x3x3x3 = 81\n",
    "\n",
    "a = lambda x, y, z: (x + y) ** z\n",
    "print(a(0,2,4))         # 16\n",
    "print(a(2,1,4))         # 81"
   ]
  },
  {
   "cell_type": "markdown",
   "metadata": {},
   "source": [
    "## Arrays"
   ]
  },
  {
   "cell_type": "code",
   "execution_count": 44,
   "metadata": {},
   "outputs": [
    {
     "output_type": "stream",
     "name": "stdout",
     "text": [
      "['Linear Regression', 'Logistic Regression', 'Decision Tree', 'SVM', 'Naive Bayes', 'kNN', 'K-Means', 'Random Forest', 'Dimensionality Reduction Algorithms', 'GBM', 'XGBoost', 'LightGBM']\n"
     ]
    }
   ],
   "source": [
    "mlAlgorithms = [\"Linear Regression\",\"Logistic Regression\",\"Decision Tree\",\"SVM\",\"Naive Bayes\",\n",
    "        \"kNN\",\"K-Means\",\"Random Forest\",\"Dimensionality Reduction Algorithms\",\n",
    "        \"GBM\",\"XGBoost\",\"LightGBM\"]\n",
    "print(mlAlgorithms)"
   ]
  },
  {
   "cell_type": "code",
   "execution_count": 45,
   "metadata": {},
   "outputs": [
    {
     "output_type": "stream",
     "name": "stdout",
     "text": [
      "Linear Regression\n"
     ]
    }
   ],
   "source": [
    "print(mlAlgorithms[0])"
   ]
  },
  {
   "cell_type": "code",
   "execution_count": 46,
   "metadata": {},
   "outputs": [
    {
     "output_type": "stream",
     "name": "stdout",
     "text": [
      "Linear Regression\nLogistic Regression\nDecision Tree\nSVM\nNaive Bayes\nkNN\nK-Means\nRandom Forest\nDimensionality Reduction Algorithms\nGBM\nXGBoost\nLightGBM\n12\n"
     ]
    }
   ],
   "source": [
    "for i in mlAlgorithms:\n",
    "    print(i)\n",
    "print(len(mlAlgorithms))"
   ]
  },
  {
   "cell_type": "code",
   "execution_count": 47,
   "metadata": {},
   "outputs": [
    {
     "output_type": "stream",
     "name": "stdout",
     "text": [
      "CatBoost\n"
     ]
    }
   ],
   "source": [
    "mlAlgorithms[0] = \"CatBoost\"\n",
    "print(mlAlgorithms[0])"
   ]
  },
  {
   "cell_type": "code",
   "execution_count": 48,
   "metadata": {},
   "outputs": [
    {
     "output_type": "stream",
     "name": "stdout",
     "text": [
      "CatBoost\n"
     ]
    }
   ],
   "source": [
    "# add item \n",
    "mlAlgorithms.append(\"CatBoost\")\n",
    "print(mlAlgorithms[-1]) # last item in array"
   ]
  },
  {
   "cell_type": "code",
   "execution_count": 49,
   "metadata": {},
   "outputs": [
    {
     "output_type": "stream",
     "name": "stdout",
     "text": [
      "['CatBoost', 'Logistic Regression', 'Decision Tree', 'SVM', 'Naive Bayes', 'kNN', 'K-Means', 'Random Forest', 'Dimensionality Reduction Algorithms', 'GBM', 'XGBoost', 'LightGBM']\n"
     ]
    }
   ],
   "source": [
    "mlAlgorithms.pop(-1) # remove last item \n",
    "print(mlAlgorithms)"
   ]
  },
  {
   "cell_type": "markdown",
   "metadata": {},
   "source": [
    "## Classes and Objects"
   ]
  },
  {
   "cell_type": "code",
   "execution_count": 50,
   "metadata": {},
   "outputs": [
    {
     "output_type": "stream",
     "name": "stdout",
     "text": [
      "ismail\n"
     ]
    }
   ],
   "source": [
    "class My_class():\n",
    "    name = \"ismail\"\n",
    "    \n",
    "a = My_class()    \n",
    "print(a.name)"
   ]
  },
  {
   "cell_type": "code",
   "execution_count": 51,
   "metadata": {},
   "outputs": [
    {
     "output_type": "stream",
     "name": "stdout",
     "text": [
      "OZBERK\n26\n"
     ]
    }
   ],
   "source": [
    "# __init__\n",
    "class ismail:\n",
    "  def __init__(self, lastname, age):\n",
    "    self.lastname = lastname\n",
    "    self.age = age\n",
    "\n",
    "a = ismail(\"OZBERK\", 26)\n",
    "\n",
    "print(a.lastname)\n",
    "print(a.age)"
   ]
  }
 ],
 "metadata": {
  "kernelspec": {
   "display_name": "Python 3",
   "language": "python",
   "name": "python3"
  },
  "language_info": {
   "codemirror_mode": {
    "name": "ipython",
    "version": 3
   },
   "file_extension": ".py",
   "mimetype": "text/x-python",
   "name": "python",
   "nbconvert_exporter": "python",
   "pygments_lexer": "ipython3",
   "version": "3.8.5-final"
  }
 },
 "nbformat": 4,
 "nbformat_minor": 4
}