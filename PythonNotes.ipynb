{
 "cells": [
  {
   "cell_type": "markdown",
   "metadata": {},
   "source": [
    "# Print Hello world!\n",
    "    "
   ]
  },
  {
   "cell_type": "code",
   "execution_count": 18,
   "metadata": {},
   "outputs": [
    {
     "name": "stdout",
     "output_type": "stream",
     "text": [
      "Hello world!\n"
     ]
    }
   ],
   "source": [
    "print(\"Hello world!\")"
   ]
  },
  {
   "cell_type": "markdown",
   "metadata": {},
   "source": [
    "# Python Variables\n",
    "    "
   ]
  },
  {
   "cell_type": "code",
   "execution_count": 6,
   "metadata": {},
   "outputs": [
    {
     "name": "stdout",
     "output_type": "stream",
     "text": [
      "3\n",
      "Three\n",
      "<class 'int'>\n",
      "<class 'str'>\n"
     ]
    }
   ],
   "source": [
    "x = 3          # Numeric Types \n",
    "y = \"Three\"    # Text Type \n",
    "print(x)\n",
    "print(y)\n",
    "print(type(x))  \n",
    "print(type(y))"
   ]
  },
  {
   "cell_type": "markdown",
   "metadata": {},
   "source": [
    "# Length of a string"
   ]
  },
  {
   "cell_type": "code",
   "execution_count": 9,
   "metadata": {},
   "outputs": [
    {
     "name": "stdout",
     "output_type": "stream",
     "text": [
      "12\n"
     ]
    }
   ],
   "source": [
    "x = \"Hello world!\"\n",
    "print(len(x))"
   ]
  },
  {
   "cell_type": "markdown",
   "metadata": {},
   "source": [
    "# Convert Lower-Upper and replace"
   ]
  },
  {
   "cell_type": "code",
   "execution_count": 11,
   "metadata": {},
   "outputs": [
    {
     "name": "stdout",
     "output_type": "stream",
     "text": [
      "hello world!\n",
      "HELLO WORLD!\n",
      "Mello World!\n"
     ]
    }
   ],
   "source": [
    "x = \"Hello World!\"\n",
    "print(x.lower())\n",
    "\n",
    "y = \"Hello World!\"\n",
    "print(y.upper())\n",
    "\n",
    "z= \"Hello World!\"\n",
    "print(z.replace(\"H\", \"M\"))\n"
   ]
  },
  {
   "cell_type": "markdown",
   "metadata": {},
   "source": [
    "# Split"
   ]
  },
  {
   "cell_type": "code",
   "execution_count": 19,
   "metadata": {},
   "outputs": [
    {
     "name": "stdout",
     "output_type": "stream",
     "text": [
      "['Hello', 'World!']\n",
      "Hello\n",
      "World!\n"
     ]
    }
   ],
   "source": [
    "x = \"Hello World!\"\n",
    "y = x.split(\" \")\n",
    "print(y)\n",
    "\n",
    "print(y[0]) # first index\n",
    "print(y[1])"
   ]
  },
  {
   "cell_type": "markdown",
   "metadata": {},
   "source": [
    "# Python Lists"
   ]
  },
  {
   "cell_type": "code",
   "execution_count": 89,
   "metadata": {},
   "outputs": [
    {
     "name": "stdout",
     "output_type": "stream",
     "text": [
      "['Linear Regression', 'Logistic Regression', 'Decision Tree']\n",
      "Linear Regression\n",
      "Logistic Regression\n",
      "Decision Tree\n"
     ]
    },
    {
     "data": {
      "text/plain": [
       "3"
      ]
     },
     "execution_count": 89,
     "metadata": {},
     "output_type": "execute_result"
    }
   ],
   "source": [
    "# Create list\n",
    "\n",
    "a_list = [\"Linear Regression\", \"Logistic Regression\", \"Decision Tree\"]\n",
    "print(a_list)\n",
    "print(a_list[0]) # first index\n",
    "print(a_list[1])\n",
    "print(a_list[2]) # last index\n",
    "\n",
    "len(a_list)"
   ]
  },
  {
   "cell_type": "code",
   "execution_count": 90,
   "metadata": {},
   "outputs": [
    {
     "name": "stdout",
     "output_type": "stream",
     "text": [
      "SVM\n"
     ]
    }
   ],
   "source": [
    "# Change value\n",
    "a_list[1] = \"SVM\"\n",
    "print(a_list[1]) # changed from watermelon to banana"
   ]
  },
  {
   "cell_type": "code",
   "execution_count": 92,
   "metadata": {},
   "outputs": [
    {
     "name": "stdout",
     "output_type": "stream",
     "text": [
      "Linear Regression\n",
      "SVM\n",
      "Decision Tree\n",
      "no\n"
     ]
    }
   ],
   "source": [
    "# Loop\n",
    "\n",
    "for i in a_list:\n",
    "    print (i)\n",
    "    \n",
    "    \n",
    "# Check item exist \n",
    "\n",
    "if \"SVMM\" in a_list:\n",
    "    print(\" yes\")\n",
    "else:\n",
    "    print(\"no\")"
   ]
  },
  {
   "cell_type": "code",
   "execution_count": 94,
   "metadata": {},
   "outputs": [
    {
     "name": "stdout",
     "output_type": "stream",
     "text": [
      "['Linear Regression', 'Logistic Regression', 'Decision Tree', 'SVM']\n"
     ]
    },
    {
     "data": {
      "text/plain": [
       "4"
      ]
     },
     "execution_count": 94,
     "metadata": {},
     "output_type": "execute_result"
    }
   ],
   "source": [
    "# Add item - end of list APPEND \n",
    "a_list = [\"Linear Regression\", \"Logistic Regression\", \"Decision Tree\"]\n",
    "\n",
    "a_list.append(\"SVM\")\n",
    "print(a_list)\n",
    "len(a_list)"
   ]
  },
  {
   "cell_type": "code",
   "execution_count": 96,
   "metadata": {},
   "outputs": [
    {
     "name": "stdout",
     "output_type": "stream",
     "text": [
      "['Naive Bayes', 'Linear Regression', 'Logistic Regression', 'Decision Tree', 'SVM']\n"
     ]
    },
    {
     "data": {
      "text/plain": [
       "5"
      ]
     },
     "execution_count": 96,
     "metadata": {},
     "output_type": "execute_result"
    }
   ],
   "source": [
    "# Add item any index INSERT\n",
    "a_list = [\"Linear Regression\", \"Logistic Regression\", \"Decision Tree\",\"SVM\"]\n",
    "\n",
    "a_list.insert(0, \"Naive Bayes\")\n",
    "print(a_list)\n",
    "len(a_list)"
   ]
  },
  {
   "cell_type": "code",
   "execution_count": 97,
   "metadata": {},
   "outputs": [
    {
     "name": "stdout",
     "output_type": "stream",
     "text": [
      "['Linear Regression', 'Logistic Regression', 'Decision Tree', 'Naive Bayes']\n"
     ]
    },
    {
     "data": {
      "text/plain": [
       "4"
      ]
     },
     "execution_count": 97,
     "metadata": {},
     "output_type": "execute_result"
    }
   ],
   "source": [
    "# Remove any - REMOVE\n",
    "a_list = [\"Linear Regression\", \"Logistic Regression\", \"Decision Tree\",\"SVM\",\"Naive Bayes\"]\n",
    "a_list.remove(\"SVM\")\n",
    "print(a_list)\n",
    "len(a_list)"
   ]
  },
  {
   "cell_type": "code",
   "execution_count": 98,
   "metadata": {},
   "outputs": [
    {
     "name": "stdout",
     "output_type": "stream",
     "text": [
      "['Linear Regression', 'Logistic Regression', 'Decision Tree']\n"
     ]
    },
    {
     "data": {
      "text/plain": [
       "3"
      ]
     },
     "execution_count": 98,
     "metadata": {},
     "output_type": "execute_result"
    }
   ],
   "source": [
    "# Remove last item - POP\n",
    "a_list = [\"Linear Regression\", \"Logistic Regression\", \"Decision Tree\",\"SVM\"]\n",
    "a_list.pop()\n",
    "print(a_list)\n",
    "len(a_list)"
   ]
  },
  {
   "cell_type": "code",
   "execution_count": 99,
   "metadata": {},
   "outputs": [
    {
     "name": "stdout",
     "output_type": "stream",
     "text": [
      "['Logistic Regression', 'Decision Tree', 'SVM']\n"
     ]
    },
    {
     "data": {
      "text/plain": [
       "3"
      ]
     },
     "execution_count": 99,
     "metadata": {},
     "output_type": "execute_result"
    }
   ],
   "source": [
    "# Remove specified index - REMOVE\n",
    "a_list = [\"Linear Regression\", \"Logistic Regression\", \"Decision Tree\",\"SVM\"]\n",
    "del a_list[0]\n",
    "print(a_list)\n",
    "len(a_list)"
   ]
  },
  {
   "cell_type": "code",
   "execution_count": 100,
   "metadata": {},
   "outputs": [
    {
     "name": "stdout",
     "output_type": "stream",
     "text": [
      "[]\n"
     ]
    },
    {
     "data": {
      "text/plain": [
       "0"
      ]
     },
     "execution_count": 100,
     "metadata": {},
     "output_type": "execute_result"
    }
   ],
   "source": [
    "# Remove all items - empty a list\n",
    "\n",
    "a_list = [\"Linear Regression\", \"Logistic Regression\", \"Decision Tree\",\"SVM\",\"Naive Bayes\"]\n",
    "a_list.clear()\n",
    "print(a_list)\n",
    "len(a_list)"
   ]
  },
  {
   "cell_type": "markdown",
   "metadata": {},
   "source": [
    "# Python Tuples"
   ]
  },
  {
   "cell_type": "code",
   "execution_count": 101,
   "metadata": {},
   "outputs": [
    {
     "name": "stdout",
     "output_type": "stream",
     "text": [
      "('Linear Regression', 'Logistic Regression', 'Decision Tree', 'SVM', 'Naive Bayes')\n"
     ]
    }
   ],
   "source": [
    "# Create a tuple\n",
    "# A tuple is ordered and unchangeable.\n",
    "\n",
    "a_tuple = (\"Linear Regression\", \"Logistic Regression\", \"Decision Tree\",\"SVM\",\"Naive Bayes\")\n",
    "print(a_tuple)"
   ]
  },
  {
   "cell_type": "code",
   "execution_count": 112,
   "metadata": {},
   "outputs": [
    {
     "name": "stdout",
     "output_type": "stream",
     "text": [
      "Linear Regression\n",
      "Logistic Regression\n",
      "Decision Tree\n",
      "SVM\n",
      "Naive Bayes\n",
      "5\n"
     ]
    }
   ],
   "source": [
    "# Access items\n",
    "\n",
    "print(a_tuple[0])\n",
    "print(a_tuple[1])\n",
    "print(a_tuple[2])\n",
    "print(a_tuple[3])\n",
    "print(a_tuple[4])\n",
    "\n",
    "print(len(a_tuple))"
   ]
  },
  {
   "cell_type": "code",
   "execution_count": 111,
   "metadata": {},
   "outputs": [
    {
     "name": "stdout",
     "output_type": "stream",
     "text": [
      "Linear Regression\n",
      "Logistic Regression\n",
      "Decision Tree\n",
      "SVM\n",
      "Naive Bayes\n"
     ]
    }
   ],
   "source": [
    "# Also for loop better way\n",
    "\n",
    "for i in a_tuple:\n",
    "    print(i)"
   ]
  },
  {
   "cell_type": "markdown",
   "metadata": {},
   "source": [
    "# Python Sets"
   ]
  },
  {
   "cell_type": "code",
   "execution_count": 113,
   "metadata": {},
   "outputs": [
    {
     "name": "stdout",
     "output_type": "stream",
     "text": [
      "{'Decision Tree', 'Logistic Regression', 'Naive Bayes', 'SVM', 'Linear Regression'}\n"
     ]
    }
   ],
   "source": [
    "# Create a Sets\n",
    "# set list is unordered/random\n",
    "\n",
    "a_set = {\"Linear Regression\", \"Logistic Regression\", \"Decision Tree\",\"SVM\",\"Naive Bayes\"}\n",
    "print(a_set)"
   ]
  },
  {
   "cell_type": "code",
   "execution_count": 114,
   "metadata": {},
   "outputs": [
    {
     "name": "stdout",
     "output_type": "stream",
     "text": [
      "Decision Tree\n",
      "Logistic Regression\n",
      "Naive Bayes\n",
      "SVM\n",
      "Linear Regression\n"
     ]
    }
   ],
   "source": [
    "# Loop\n",
    "for i in a_set:\n",
    "    print(i)"
   ]
  },
  {
   "cell_type": "code",
   "execution_count": 121,
   "metadata": {},
   "outputs": [
    {
     "name": "stdout",
     "output_type": "stream",
     "text": [
      "{'Random Forest', 'LightGBM', 'Naive Bayes', 'Gradient Boosting'}\n"
     ]
    },
    {
     "data": {
      "text/plain": [
       "4"
      ]
     },
     "execution_count": 121,
     "metadata": {},
     "output_type": "execute_result"
    }
   ],
   "source": [
    "# Add item\n",
    "a_set = {\"Random Forest\", \"Gradient Boosting\", \"LightGBM\"}\n",
    "a_set.add(\"Naive Bayes\")\n",
    "print(a_set)\n",
    "len(a_set)"
   ]
  },
  {
   "cell_type": "code",
   "execution_count": 122,
   "metadata": {},
   "outputs": [
    {
     "name": "stdout",
     "output_type": "stream",
     "text": [
      "{'kNN', 'Naive Bayes', 'Gradient Boosting', 'Random Forest', 'LightGBM', 'K-Means'}\n"
     ]
    },
    {
     "data": {
      "text/plain": [
       "6"
      ]
     },
     "execution_count": 122,
     "metadata": {},
     "output_type": "execute_result"
    }
   ],
   "source": [
    "# Add many items - UPDATE\n",
    "\n",
    "a_set.update([\"kNN\", \"K-Means\", \"LightGBM\"])\n",
    "print(a_set)\n",
    "len(a_set)"
   ]
  },
  {
   "cell_type": "code",
   "execution_count": 130,
   "metadata": {
    "scrolled": true
   },
   "outputs": [
    {
     "ename": "KeyError",
     "evalue": "'SVM'",
     "output_type": "error",
     "traceback": [
      "\u001b[1;31m---------------------------------------------------------------------------\u001b[0m",
      "\u001b[1;31mKeyError\u001b[0m                                  Traceback (most recent call last)",
      "\u001b[1;32m<ipython-input-130-103cc32b100a>\u001b[0m in \u001b[0;36m<module>\u001b[1;34m\u001b[0m\n\u001b[0;32m      1\u001b[0m \u001b[1;31m# Remove items with REMOVE\u001b[0m\u001b[1;33m\u001b[0m\u001b[1;33m\u001b[0m\u001b[1;33m\u001b[0m\u001b[0m\n\u001b[0;32m      2\u001b[0m \u001b[0ma_set\u001b[0m \u001b[1;33m=\u001b[0m \u001b[1;33m{\u001b[0m\u001b[1;34m\"Random Forest\"\u001b[0m\u001b[1;33m,\u001b[0m \u001b[1;34m\"Gradient Boosting\"\u001b[0m\u001b[1;33m,\u001b[0m \u001b[1;34m\"LightGBM\"\u001b[0m\u001b[1;33m}\u001b[0m\u001b[1;33m\u001b[0m\u001b[1;33m\u001b[0m\u001b[0m\n\u001b[1;32m----> 3\u001b[1;33m \u001b[0ma_set\u001b[0m\u001b[1;33m.\u001b[0m\u001b[0mremove\u001b[0m\u001b[1;33m(\u001b[0m\u001b[1;34m\"SVM\"\u001b[0m\u001b[1;33m)\u001b[0m\u001b[1;33m\u001b[0m\u001b[1;33m\u001b[0m\u001b[0m\n\u001b[0m\u001b[0;32m      4\u001b[0m \u001b[0mprint\u001b[0m\u001b[1;33m(\u001b[0m\u001b[0ma_set\u001b[0m\u001b[1;33m)\u001b[0m\u001b[1;33m\u001b[0m\u001b[1;33m\u001b[0m\u001b[0m\n\u001b[0;32m      5\u001b[0m \u001b[0mlen\u001b[0m\u001b[1;33m(\u001b[0m\u001b[0ma_set\u001b[0m\u001b[1;33m)\u001b[0m\u001b[1;33m\u001b[0m\u001b[1;33m\u001b[0m\u001b[0m\n",
      "\u001b[1;31mKeyError\u001b[0m: 'SVM'"
     ]
    }
   ],
   "source": [
    "# Remove items with REMOVE\n",
    "a_set = {\"Random Forest\", \"Gradient Boosting\", \"LightGBM\"}\n",
    "a_set.remove(\"SVM\")\n",
    "print(a_set)\n",
    "len(a_set)\n",
    "\n",
    "# If the item to remove does not exist, remove() will raise an error."
   ]
  },
  {
   "cell_type": "code",
   "execution_count": 131,
   "metadata": {},
   "outputs": [
    {
     "name": "stdout",
     "output_type": "stream",
     "text": [
      "{'Random Forest', 'LightGBM', 'Gradient Boosting'}\n"
     ]
    },
    {
     "data": {
      "text/plain": [
       "3"
      ]
     },
     "execution_count": 131,
     "metadata": {},
     "output_type": "execute_result"
    }
   ],
   "source": [
    "# Remove items with DISCARD\n",
    "a_set = {\"Random Forest\", \"Gradient Boosting\", \"LightGBM\"}\n",
    "a_set.discard(\"SVM\")\n",
    "print(a_set)\n",
    "len(a_set)"
   ]
  },
  {
   "cell_type": "code",
   "execution_count": 133,
   "metadata": {
    "scrolled": true
   },
   "outputs": [
    {
     "name": "stdout",
     "output_type": "stream",
     "text": [
      "Decision Tree\n",
      "{'Logistic Regression', 'Naive Bayes', 'SVM', 'Linear Regression'}\n"
     ]
    },
    {
     "data": {
      "text/plain": [
       "4"
      ]
     },
     "execution_count": 133,
     "metadata": {},
     "output_type": "execute_result"
    }
   ],
   "source": [
    "# Remove items with POP\n",
    "a_set = {\"Linear Regression\", \"Logistic Regression\", \"Decision Tree\",\"SVM\",\"Naive Bayes\"}\n",
    "lastItemRemoved = a_set.pop() # set list is random \n",
    "print(lastItemRemoved)\n",
    "print(a_set)\n",
    "len(a_set)"
   ]
  },
  {
   "cell_type": "markdown",
   "metadata": {},
   "source": [
    "# Python Dictionaries"
   ]
  },
  {
   "cell_type": "code",
   "execution_count": 147,
   "metadata": {},
   "outputs": [
    {
     "name": "stdout",
     "output_type": "stream",
     "text": [
      "{'Name': 'Ismail', 'Surname': 'OZBERK', 'birthyear': 1993}\n"
     ]
    },
    {
     "data": {
      "text/plain": [
       "3"
      ]
     },
     "execution_count": 147,
     "metadata": {},
     "output_type": "execute_result"
    }
   ],
   "source": [
    "a_dic = {\n",
    "  \"Name\": \"Ismail\",\n",
    "  \"Surname\": \"OZBERK\",\n",
    "  \"birthyear\": 1993\n",
    "}\n",
    "\n",
    "print(a_dic)\n",
    "len(a_dic)"
   ]
  },
  {
   "cell_type": "code",
   "execution_count": 148,
   "metadata": {},
   "outputs": [
    {
     "data": {
      "text/plain": [
       "1993"
      ]
     },
     "execution_count": 148,
     "metadata": {},
     "output_type": "execute_result"
    }
   ],
   "source": [
    "# Access items\n",
    "a_dic[\"Name\"]\n",
    "a_dic[\"Surname\"]\n",
    "a_dic[\"birthyear\"]"
   ]
  },
  {
   "cell_type": "code",
   "execution_count": 149,
   "metadata": {},
   "outputs": [
    {
     "name": "stdout",
     "output_type": "stream",
     "text": [
      "Name\n",
      "Surname\n",
      "birthyear\n"
     ]
    }
   ],
   "source": [
    "for i in a_dic:\n",
    "    print(i)"
   ]
  },
  {
   "cell_type": "code",
   "execution_count": 150,
   "metadata": {},
   "outputs": [
    {
     "name": "stdout",
     "output_type": "stream",
     "text": [
      "{'Name': 'Ismail', 'Surname': 'OZBERK', 'birthyear': 1994}\n"
     ]
    }
   ],
   "source": [
    "# Change the value\n",
    "a_dic[\"birthyear\"] = 1994\n",
    "print(a_dic)"
   ]
  },
  {
   "cell_type": "code",
   "execution_count": 151,
   "metadata": {},
   "outputs": [
    {
     "name": "stdout",
     "output_type": "stream",
     "text": [
      "Name\n",
      "Surname\n",
      "birthyear\n",
      "Ismail\n",
      "OZBERK\n",
      "1994\n"
     ]
    }
   ],
   "source": [
    "# Print key names and value names\n",
    "\n",
    "for i in a_dic:\n",
    "    print(i)\n",
    "for k in a_dic:\n",
    "    print(a_dic[k])"
   ]
  },
  {
   "cell_type": "code",
   "execution_count": 152,
   "metadata": {},
   "outputs": [
    {
     "name": "stdout",
     "output_type": "stream",
     "text": [
      "Name Ismail\n",
      "Surname OZBERK\n",
      "birthyear 1994\n"
     ]
    }
   ],
   "source": [
    "# Print key names and value names same time\n",
    "for i,k in a_dic.items():\n",
    "    print(i,k)"
   ]
  },
  {
   "cell_type": "code",
   "execution_count": 153,
   "metadata": {},
   "outputs": [
    {
     "name": "stdout",
     "output_type": "stream",
     "text": [
      "{'Name': 'Ismail', 'Surname': 'OZBERK', 'birthyear': 1994, 'gender': 'male'}\n"
     ]
    }
   ],
   "source": [
    "# add a item\n",
    "a_dic[\"gender\"] = \"male\"\n",
    "print(a_dic)"
   ]
  },
  {
   "cell_type": "code",
   "execution_count": 154,
   "metadata": {},
   "outputs": [
    {
     "name": "stdout",
     "output_type": "stream",
     "text": [
      "{'Name': 'Ismail', 'Surname': 'OZBERK', 'gender': 'male'}\n"
     ]
    }
   ],
   "source": [
    "# remove a item\n",
    "a_dic.pop(\"birthyear\")\n",
    "print(a_dic)"
   ]
  },
  {
   "cell_type": "markdown",
   "metadata": {},
   "source": [
    "# Python If - Else"
   ]
  },
  {
   "cell_type": "code",
   "execution_count": 176,
   "metadata": {},
   "outputs": [
    {
     "name": "stdout",
     "output_type": "stream",
     "text": [
      "5 is lower than 10\n",
      "no\n",
      "yes\n"
     ]
    }
   ],
   "source": [
    "a = 5\n",
    "b = 10\n",
    "c = 15\n",
    "d = 20\n",
    "e = 25\n",
    "f = 30\n",
    "\n",
    "if a < b:\n",
    "    print(\"{} is lower than {}\".format(a,b))\n",
    "elif d > c:\n",
    "    print(\"{} is greater than {}\".format(d,c))\n",
    "else:\n",
    "    print(\"Something went wrong\")\n",
    "    \n",
    "if d == e and f < a:\n",
    "    print(\"yes\")\n",
    "else:\n",
    "    print(\"no\")\n",
    "    \n",
    "if d%5==0 or f%3==0:\n",
    "    print(\"yes\")\n",
    "else:\n",
    "    print(\"no\")    "
   ]
  },
  {
   "cell_type": "markdown",
   "metadata": {},
   "source": [
    "# Python While"
   ]
  },
  {
   "cell_type": "code",
   "execution_count": 185,
   "metadata": {},
   "outputs": [
    {
     "name": "stdout",
     "output_type": "stream",
     "text": [
      "0\n",
      "2\n",
      "4\n",
      "6\n",
      "8\n",
      "10\n"
     ]
    }
   ],
   "source": [
    "a = 0\n",
    "while a < 21:\n",
    "  print(a)\n",
    "  if (a == 10):\n",
    "    break                # Break Statement\n",
    "  a += 2"
   ]
  },
  {
   "cell_type": "code",
   "execution_count": 205,
   "metadata": {},
   "outputs": [
    {
     "name": "stdout",
     "output_type": "stream",
     "text": [
      "2\n",
      "3\n",
      "4\n",
      "5\n"
     ]
    }
   ],
   "source": [
    "a = 0\n",
    "while a < 5:\n",
    "  a += 1\n",
    "  if a == 1:\n",
    "    continue         # Continue  Statement\n",
    "  print(a)"
   ]
  },
  {
   "cell_type": "markdown",
   "metadata": {},
   "source": [
    "# Python For Loop"
   ]
  },
  {
   "cell_type": "code",
   "execution_count": 213,
   "metadata": {},
   "outputs": [
    {
     "name": "stdout",
     "output_type": "stream",
     "text": [
      "0\n",
      "2\n",
      "4\n",
      "6\n",
      "8\n",
      "Done\n"
     ]
    }
   ],
   "source": [
    "for i in range(0,10,2): # Even numbers \n",
    "    print(i)\n",
    "else:\n",
    "  print(\"Done\")    "
   ]
  },
  {
   "cell_type": "code",
   "execution_count": 220,
   "metadata": {},
   "outputs": [
    {
     "name": "stdout",
     "output_type": "stream",
     "text": [
      "a a\n",
      "a b\n",
      "a c\n",
      "b a\n",
      "b b\n",
      "b c\n",
      "c a\n",
      "c b\n",
      "c c\n"
     ]
    }
   ],
   "source": [
    "# Nested for loop\n",
    "\n",
    "letters1 = [\"a\",\"b\",\"c\"]\n",
    "letters2 = [\"d\",\"e\",\"f\"]\n",
    " \n",
    "for i in letters1:\n",
    "    for j in letters1:\n",
    "        print(i,j)"
   ]
  },
  {
   "cell_type": "markdown",
   "metadata": {},
   "source": [
    "# Functions"
   ]
  },
  {
   "cell_type": "code",
   "execution_count": 226,
   "metadata": {},
   "outputs": [
    {
     "name": "stdout",
     "output_type": "stream",
     "text": [
      "Hello World, This is python function\n"
     ]
    }
   ],
   "source": [
    "# Creating\n",
    "def first_functions():\n",
    "    print(\"Hello World, This is python function\")\n",
    "    \n",
    "first_functions()    "
   ]
  },
  {
   "cell_type": "code",
   "execution_count": 244,
   "metadata": {},
   "outputs": [
    {
     "name": "stdout",
     "output_type": "stream",
     "text": [
      "I am 22 years old\n",
      "I am 33 years old\n",
      "I am 44 years old\n",
      "I am 55 years old\n",
      "I am 25 years old\n"
     ]
    }
   ],
   "source": [
    "# Return age\n",
    "def second_functions(age = 25):\n",
    "    print(\"I am {}\".format(age) + \" years old\")\n",
    "\n",
    "second_functions(22)\n",
    "second_functions(33)\n",
    "second_functions(44)\n",
    "second_functions(55)\n",
    "\n",
    "second_functions() # default value = 25"
   ]
  },
  {
   "cell_type": "code",
   "execution_count": 254,
   "metadata": {},
   "outputs": [
    {
     "name": "stdout",
     "output_type": "stream",
     "text": [
      "1\n",
      "4\n",
      "9\n",
      "16\n",
      "25\n"
     ]
    },
    {
     "data": {
      "text/plain": [
       "100"
      ]
     },
     "execution_count": 254,
     "metadata": {},
     "output_type": "execute_result"
    }
   ],
   "source": [
    "# squaring\n",
    "def third_functions(i):\n",
    "    return i**2\n",
    "\n",
    "print(third_functions(1))\n",
    "print(third_functions(2))\n",
    "print(third_functions(3))\n",
    "print(third_functions(4))\n",
    "print(third_functions(5))\n",
    "third_functions(10)"
   ]
  },
  {
   "cell_type": "code",
   "execution_count": 267,
   "metadata": {},
   "outputs": [
    {
     "name": "stdout",
     "output_type": "stream",
     "text": [
      "numbers must be positive\n",
      "The factorial of 0 is 1\n",
      "The factorial of 3 is 6\n",
      "The factorial of 4 is 24\n",
      "The factorial of 5 is 120\n",
      "The factorial of 6 is 720\n",
      "The factorial of 7 is 5040\n"
     ]
    }
   ],
   "source": [
    "def num_factorial(num):\n",
    "  fac = 1\n",
    "  if num < 0:\n",
    "    print(\"numbers must be positive\")\n",
    "  elif num == 0:\n",
    "    print(\"The factorial of 0 is 1\")\n",
    "  else:\n",
    "    for a in range(1, num + 1):\n",
    "        fac = fac * a\n",
    "    print(\"The factorial of\",num,\"is\",fac)    \n",
    "    \n",
    "    \n",
    "num_factorial(-1)\n",
    "num_factorial(0)\n",
    "num_factorial(3)\n",
    "num_factorial(4)\n",
    "num_factorial(5)\n",
    "num_factorial(6)\n",
    "num_factorial(7)"
   ]
  },
  {
   "cell_type": "markdown",
   "metadata": {},
   "source": [
    "### lambda"
   ]
  },
  {
   "cell_type": "code",
   "execution_count": 272,
   "metadata": {},
   "outputs": [
    {
     "name": "stdout",
     "output_type": "stream",
     "text": [
      "0\n",
      "1\n",
      "4\n",
      "9\n"
     ]
    }
   ],
   "source": [
    "a = lambda x: x ** 2\n",
    "print(a(0))\n",
    "print(a(1))\n",
    "print(a(2))\n",
    "print(a(3))"
   ]
  },
  {
   "cell_type": "code",
   "execution_count": 284,
   "metadata": {},
   "outputs": [
    {
     "name": "stdout",
     "output_type": "stream",
     "text": [
      "16\n",
      "81\n",
      "16\n",
      "81\n"
     ]
    }
   ],
   "source": [
    "a = lambda x, y: x ** y\n",
    "print(a(2,4))         # 2x2x2x2 = 16\n",
    "print(a(3,4))         # 3x3x3x3 = 81\n",
    "\n",
    "a = lambda x, y, z: (x + y) ** z\n",
    "print(a(0,2,4))         # 16\n",
    "print(a(2,1,4))         # 81"
   ]
  },
  {
   "cell_type": "markdown",
   "metadata": {},
   "source": [
    "## Arrays"
   ]
  },
  {
   "cell_type": "code",
   "execution_count": 289,
   "metadata": {},
   "outputs": [
    {
     "name": "stdout",
     "output_type": "stream",
     "text": [
      "['Linear Regression', 'Logistic Regression', 'Decision Tree', 'SVM', 'Naive Bayes', 'kNN', 'K-Means', 'Random Forest', 'Dimensionality Reduction Algorithms', 'GBM', 'XGBoost', 'LightGBM']\n"
     ]
    }
   ],
   "source": [
    "mlAlgorithms = [\"Linear Regression\",\"Logistic Regression\",\"Decision Tree\",\"SVM\",\"Naive Bayes\",\n",
    "        \"kNN\",\"K-Means\",\"Random Forest\",\"Dimensionality Reduction Algorithms\",\n",
    "        \"GBM\",\"XGBoost\",\"LightGBM\"]\n",
    "print(mlAlgorithms)"
   ]
  },
  {
   "cell_type": "code",
   "execution_count": 290,
   "metadata": {},
   "outputs": [
    {
     "name": "stdout",
     "output_type": "stream",
     "text": [
      "Linear Regression\n"
     ]
    }
   ],
   "source": [
    "print(mlAlgorithms[0])"
   ]
  },
  {
   "cell_type": "code",
   "execution_count": 294,
   "metadata": {},
   "outputs": [
    {
     "name": "stdout",
     "output_type": "stream",
     "text": [
      "CatBoost\n",
      "Logistic Regression\n",
      "Decision Tree\n",
      "SVM\n",
      "Naive Bayes\n",
      "kNN\n",
      "K-Means\n",
      "Random Forest\n",
      "Dimensionality Reduction Algorithms\n",
      "GBM\n",
      "XGBoost\n",
      "LightGBM\n",
      "12\n"
     ]
    }
   ],
   "source": [
    "for i in mlAlgorithms:\n",
    "    print(i)\n",
    "print(len(mlAlgorithms))"
   ]
  },
  {
   "cell_type": "code",
   "execution_count": 292,
   "metadata": {},
   "outputs": [
    {
     "name": "stdout",
     "output_type": "stream",
     "text": [
      "CatBoost\n"
     ]
    }
   ],
   "source": [
    "mlAlgorithms[0] = \"CatBoost\"\n",
    "print(mlAlgorithms[0])"
   ]
  },
  {
   "cell_type": "code",
   "execution_count": 297,
   "metadata": {},
   "outputs": [
    {
     "name": "stdout",
     "output_type": "stream",
     "text": [
      "CatBoost\n"
     ]
    }
   ],
   "source": [
    "# add item \n",
    "mlAlgorithms.append(\"CatBoost\")\n",
    "print(mlAlgorithms[-1]) # last item in array"
   ]
  },
  {
   "cell_type": "code",
   "execution_count": 308,
   "metadata": {},
   "outputs": [
    {
     "name": "stdout",
     "output_type": "stream",
     "text": [
      "['CatBoost', 'Naive Bayes', 'kNN', 'K-Means', 'Random Forest', 'Dimensionality Reduction Algorithms', 'GBM', 'XGBoost']\n"
     ]
    }
   ],
   "source": [
    "mlAlgorithms.pop(-1) # remove last item \n",
    "print(mlAlgorithms)"
   ]
  },
  {
   "cell_type": "markdown",
   "metadata": {},
   "source": [
    "## Classes and Objects"
   ]
  },
  {
   "cell_type": "code",
   "execution_count": 311,
   "metadata": {},
   "outputs": [
    {
     "name": "stdout",
     "output_type": "stream",
     "text": [
      "ismail\n"
     ]
    }
   ],
   "source": [
    "class My_class():\n",
    "    name = \"ismail\"\n",
    "    \n",
    "a = My_class()    \n",
    "print(a.name)"
   ]
  },
  {
   "cell_type": "code",
   "execution_count": 315,
   "metadata": {},
   "outputs": [
    {
     "name": "stdout",
     "output_type": "stream",
     "text": [
      "OZBERK\n",
      "26\n"
     ]
    }
   ],
   "source": [
    "# __init__\n",
    "class ismail:\n",
    "  def __init__(self, lastname, age):\n",
    "    self.lastname = lastname\n",
    "    self.age = age\n",
    "\n",
    "a = ismail(\"OZBERK\", 26)\n",
    "\n",
    "print(a.lastname)\n",
    "print(a.age)"
   ]
  },
  {
   "cell_type": "code",
   "execution_count": null,
   "metadata": {},
   "outputs": [],
   "source": []
  },
  {
   "cell_type": "code",
   "execution_count": null,
   "metadata": {},
   "outputs": [],
   "source": []
  },
  {
   "cell_type": "code",
   "execution_count": null,
   "metadata": {},
   "outputs": [],
   "source": []
  },
  {
   "cell_type": "code",
   "execution_count": null,
   "metadata": {},
   "outputs": [],
   "source": []
  },
  {
   "cell_type": "code",
   "execution_count": null,
   "metadata": {},
   "outputs": [],
   "source": []
  },
  {
   "cell_type": "code",
   "execution_count": null,
   "metadata": {},
   "outputs": [],
   "source": []
  },
  {
   "cell_type": "code",
   "execution_count": null,
   "metadata": {},
   "outputs": [],
   "source": []
  },
  {
   "cell_type": "code",
   "execution_count": null,
   "metadata": {},
   "outputs": [],
   "source": []
  },
  {
   "cell_type": "code",
   "execution_count": null,
   "metadata": {},
   "outputs": [],
   "source": []
  },
  {
   "cell_type": "code",
   "execution_count": null,
   "metadata": {},
   "outputs": [],
   "source": []
  },
  {
   "cell_type": "code",
   "execution_count": null,
   "metadata": {},
   "outputs": [],
   "source": []
  },
  {
   "cell_type": "code",
   "execution_count": null,
   "metadata": {},
   "outputs": [],
   "source": []
  },
  {
   "cell_type": "code",
   "execution_count": null,
   "metadata": {},
   "outputs": [],
   "source": []
  },
  {
   "cell_type": "code",
   "execution_count": null,
   "metadata": {},
   "outputs": [],
   "source": []
  },
  {
   "cell_type": "code",
   "execution_count": null,
   "metadata": {},
   "outputs": [],
   "source": []
  },
  {
   "cell_type": "code",
   "execution_count": null,
   "metadata": {},
   "outputs": [],
   "source": []
  },
  {
   "cell_type": "code",
   "execution_count": null,
   "metadata": {},
   "outputs": [],
   "source": []
  },
  {
   "cell_type": "code",
   "execution_count": null,
   "metadata": {},
   "outputs": [],
   "source": []
  },
  {
   "cell_type": "code",
   "execution_count": null,
   "metadata": {},
   "outputs": [],
   "source": []
  },
  {
   "cell_type": "code",
   "execution_count": null,
   "metadata": {},
   "outputs": [],
   "source": []
  },
  {
   "cell_type": "code",
   "execution_count": null,
   "metadata": {},
   "outputs": [],
   "source": []
  },
  {
   "cell_type": "code",
   "execution_count": null,
   "metadata": {},
   "outputs": [],
   "source": []
  },
  {
   "cell_type": "code",
   "execution_count": null,
   "metadata": {},
   "outputs": [],
   "source": []
  },
  {
   "cell_type": "code",
   "execution_count": null,
   "metadata": {},
   "outputs": [],
   "source": []
  },
  {
   "cell_type": "code",
   "execution_count": null,
   "metadata": {},
   "outputs": [],
   "source": []
  },
  {
   "cell_type": "code",
   "execution_count": null,
   "metadata": {},
   "outputs": [],
   "source": []
  },
  {
   "cell_type": "code",
   "execution_count": null,
   "metadata": {},
   "outputs": [],
   "source": []
  },
  {
   "cell_type": "code",
   "execution_count": null,
   "metadata": {},
   "outputs": [],
   "source": []
  },
  {
   "cell_type": "code",
   "execution_count": null,
   "metadata": {},
   "outputs": [],
   "source": []
  },
  {
   "cell_type": "code",
   "execution_count": null,
   "metadata": {},
   "outputs": [],
   "source": []
  },
  {
   "cell_type": "code",
   "execution_count": null,
   "metadata": {},
   "outputs": [],
   "source": []
  },
  {
   "cell_type": "code",
   "execution_count": null,
   "metadata": {},
   "outputs": [],
   "source": []
  },
  {
   "cell_type": "code",
   "execution_count": null,
   "metadata": {},
   "outputs": [],
   "source": []
  },
  {
   "cell_type": "code",
   "execution_count": null,
   "metadata": {},
   "outputs": [],
   "source": []
  },
  {
   "cell_type": "code",
   "execution_count": null,
   "metadata": {},
   "outputs": [],
   "source": []
  }
 ],
 "metadata": {
  "kernelspec": {
   "display_name": "Python 3",
   "language": "python",
   "name": "python3"
  },
  "language_info": {
   "codemirror_mode": {
    "name": "ipython",
    "version": 3
   },
   "file_extension": ".py",
   "mimetype": "text/x-python",
   "name": "python",
   "nbconvert_exporter": "python",
   "pygments_lexer": "ipython3",
   "version": "3.8.3"
  }
 },
 "nbformat": 4,
 "nbformat_minor": 4
}
